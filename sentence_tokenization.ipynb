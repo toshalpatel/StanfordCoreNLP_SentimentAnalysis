{
 "cells": [
  {
   "cell_type": "code",
   "execution_count": 1,
   "metadata": {},
   "outputs": [],
   "source": [
    "import pandas as pd\n",
    "import nltk\n",
    "import string\n",
    "import csv\n",
    "import itertools"
   ]
  },
  {
   "cell_type": "code",
   "execution_count": 14,
   "metadata": {},
   "outputs": [],
   "source": [
    "data=pd.read_csv('ST_MTurk.csv')"
   ]
  },
  {
   "cell_type": "code",
   "execution_count": 15,
   "metadata": {},
   "outputs": [
    {
     "data": {
      "text/html": [
       "<div>\n",
       "<style scoped>\n",
       "    .dataframe tbody tr th:only-of-type {\n",
       "        vertical-align: middle;\n",
       "    }\n",
       "\n",
       "    .dataframe tbody tr th {\n",
       "        vertical-align: top;\n",
       "    }\n",
       "\n",
       "    .dataframe thead th {\n",
       "        text-align: right;\n",
       "    }\n",
       "</style>\n",
       "<table border=\"1\" class=\"dataframe\">\n",
       "  <thead>\n",
       "    <tr style=\"text-align: right;\">\n",
       "      <th></th>\n",
       "      <th>article ID</th>\n",
       "      <th>date</th>\n",
       "      <th>category</th>\n",
       "      <th>content</th>\n",
       "      <th>tag</th>\n",
       "      <th>noun_words</th>\n",
       "      <th>title</th>\n",
       "      <th>num of words</th>\n",
       "      <th>sentiment</th>\n",
       "      <th>sentiment score</th>\n",
       "      <th>template</th>\n",
       "      <th>author</th>\n",
       "      <th>time</th>\n",
       "    </tr>\n",
       "  </thead>\n",
       "  <tbody>\n",
       "    <tr>\n",
       "      <th>0</th>\n",
       "      <td>153367</td>\n",
       "      <td>8/3/2014</td>\n",
       "      <td>lifestyle</td>\n",
       "      <td>(REUTERS) - Singer and \"American Idol\" finalis...</td>\n",
       "      <td>[(u'(', '('), (u'REUTERS', 'NNPS'), (u')', ')'...</td>\n",
       "      <td>[u'REUTERS', u'Singer', u'Idol', u'finalist', ...</td>\n",
       "      <td>\"american idol\" singer michael johns dies at 35</td>\n",
       "      <td>16</td>\n",
       "      <td>Neutral</td>\n",
       "      <td>0</td>\n",
       "      <td>straitstimes_standard</td>\n",
       "      <td>\"American Idol\" singer Michael Johns dies at 3...</td>\n",
       "      <td>Published on Aug 3, 2014 10:27 AM</td>\n",
       "    </tr>\n",
       "    <tr>\n",
       "      <th>1</th>\n",
       "      <td>171423</td>\n",
       "      <td>7/11/2014</td>\n",
       "      <td>asia</td>\n",
       "      <td>PETALING JAYA (THE STAR/ASIA NEWS NETWORK) - M...</td>\n",
       "      <td>[(u'PETALING', 'NN'), (u'JAYA', 'NNP'), (u'(',...</td>\n",
       "      <td>[u'PETALING', u'JAYA', u'THE', u'STAR/ASIA', u...</td>\n",
       "      <td>\"bung-les\": malaysia mp bung moktar radin's to...</td>\n",
       "      <td>18</td>\n",
       "      <td>Negative</td>\n",
       "      <td>-1</td>\n",
       "      <td>straitstimes_standard</td>\n",
       "      <td>\"Bung-les\": Malaysia MP Bung Moktar Radin's to...</td>\n",
       "      <td>Published on Jul 11, 2014 10:01 AM</td>\n",
       "    </tr>\n",
       "    <tr>\n",
       "      <th>2</th>\n",
       "      <td>150906</td>\n",
       "      <td>8/4/2014</td>\n",
       "      <td>lifestyle</td>\n",
       "      <td>American underwater photographer David Doubile...</td>\n",
       "      <td>[(u'American', 'NNP'), (u'underwater', 'NN'), ...</td>\n",
       "      <td>[u'American', u'underwater', u'photographer', ...</td>\n",
       "      <td>\"the more i uncover, the more i realise what i...</td>\n",
       "      <td>31</td>\n",
       "      <td>Negative</td>\n",
       "      <td>-1</td>\n",
       "      <td>straitstimes_standard</td>\n",
       "      <td>\"The more I uncover, the more I realise what I...</td>\n",
       "      <td>Published on Aug 4, 2014 7:22 PM</td>\n",
       "    </tr>\n",
       "    <tr>\n",
       "      <th>3</th>\n",
       "      <td>185231</td>\n",
       "      <td>12/16/2014</td>\n",
       "      <td>business</td>\n",
       "      <td>Paying with plastic has become so common that ...</td>\n",
       "      <td>[(u'Paying', 'VBG'), (u'plastic', 'NN'), (u'be...</td>\n",
       "      <td>[u'plastic', u'credit', u'card', u'loans', u't...</td>\n",
       "      <td>$10 billion in outstanding credit card loans b...</td>\n",
       "      <td>19</td>\n",
       "      <td>Negative</td>\n",
       "      <td>-1</td>\n",
       "      <td>straitstimes_standard</td>\n",
       "      <td>$10 billion in outstanding credit card loans b...</td>\n",
       "      <td>Published on Dec 14, 2014 6:53 AM</td>\n",
       "    </tr>\n",
       "    <tr>\n",
       "      <th>4</th>\n",
       "      <td>197490</td>\n",
       "      <td>12/4/2014</td>\n",
       "      <td>singapore</td>\n",
       "      <td>SINGAPORE - The Education Ministry will set as...</td>\n",
       "      <td>[(u'SINGAPORE', 'NNP'), (u'-', ':'), (u'The', ...</td>\n",
       "      <td>[u'SINGAPORE', u'Education', u'Ministry', u'fu...</td>\n",
       "      <td>$10 million fund set up for research on tertia...</td>\n",
       "      <td>19</td>\n",
       "      <td>Negative</td>\n",
       "      <td>-1</td>\n",
       "      <td>straitstimes_standard</td>\n",
       "      <td>$10 million fund set up for research on tertia...</td>\n",
       "      <td>Published on Dec 4, 2014 11:37 AM</td>\n",
       "    </tr>\n",
       "  </tbody>\n",
       "</table>\n",
       "</div>"
      ],
      "text/plain": [
       "   article ID        date   category  \\\n",
       "0      153367    8/3/2014  lifestyle   \n",
       "1      171423   7/11/2014       asia   \n",
       "2      150906    8/4/2014  lifestyle   \n",
       "3      185231  12/16/2014   business   \n",
       "4      197490   12/4/2014  singapore   \n",
       "\n",
       "                                             content  \\\n",
       "0  (REUTERS) - Singer and \"American Idol\" finalis...   \n",
       "1  PETALING JAYA (THE STAR/ASIA NEWS NETWORK) - M...   \n",
       "2  American underwater photographer David Doubile...   \n",
       "3  Paying with plastic has become so common that ...   \n",
       "4  SINGAPORE - The Education Ministry will set as...   \n",
       "\n",
       "                                                 tag  \\\n",
       "0  [(u'(', '('), (u'REUTERS', 'NNPS'), (u')', ')'...   \n",
       "1  [(u'PETALING', 'NN'), (u'JAYA', 'NNP'), (u'(',...   \n",
       "2  [(u'American', 'NNP'), (u'underwater', 'NN'), ...   \n",
       "3  [(u'Paying', 'VBG'), (u'plastic', 'NN'), (u'be...   \n",
       "4  [(u'SINGAPORE', 'NNP'), (u'-', ':'), (u'The', ...   \n",
       "\n",
       "                                          noun_words  \\\n",
       "0  [u'REUTERS', u'Singer', u'Idol', u'finalist', ...   \n",
       "1  [u'PETALING', u'JAYA', u'THE', u'STAR/ASIA', u...   \n",
       "2  [u'American', u'underwater', u'photographer', ...   \n",
       "3  [u'plastic', u'credit', u'card', u'loans', u't...   \n",
       "4  [u'SINGAPORE', u'Education', u'Ministry', u'fu...   \n",
       "\n",
       "                                               title  num of words sentiment  \\\n",
       "0    \"american idol\" singer michael johns dies at 35            16   Neutral   \n",
       "1  \"bung-les\": malaysia mp bung moktar radin's to...            18  Negative   \n",
       "2  \"the more i uncover, the more i realise what i...            31  Negative   \n",
       "3  $10 billion in outstanding credit card loans b...            19  Negative   \n",
       "4  $10 million fund set up for research on tertia...            19  Negative   \n",
       "\n",
       "   sentiment score               template  \\\n",
       "0                0  straitstimes_standard   \n",
       "1               -1  straitstimes_standard   \n",
       "2               -1  straitstimes_standard   \n",
       "3               -1  straitstimes_standard   \n",
       "4               -1  straitstimes_standard   \n",
       "\n",
       "                                              author  \\\n",
       "0  \"American Idol\" singer Michael Johns dies at 3...   \n",
       "1  \"Bung-les\": Malaysia MP Bung Moktar Radin's to...   \n",
       "2  \"The more I uncover, the more I realise what I...   \n",
       "3  $10 billion in outstanding credit card loans b...   \n",
       "4  $10 million fund set up for research on tertia...   \n",
       "\n",
       "                                 time  \n",
       "0   Published on Aug 3, 2014 10:27 AM  \n",
       "1  Published on Jul 11, 2014 10:01 AM  \n",
       "2    Published on Aug 4, 2014 7:22 PM  \n",
       "3   Published on Dec 14, 2014 6:53 AM  \n",
       "4   Published on Dec 4, 2014 11:37 AM  "
      ]
     },
     "execution_count": 15,
     "metadata": {},
     "output_type": "execute_result"
    }
   ],
   "source": [
    "data.head()"
   ]
  },
  {
   "cell_type": "markdown",
   "metadata": {},
   "source": [
    "Random sample 1500 articles"
   ]
  },
  {
   "cell_type": "code",
   "execution_count": 22,
   "metadata": {},
   "outputs": [],
   "source": [
    "x=range(0,12)"
   ]
  },
  {
   "cell_type": "code",
   "execution_count": 24,
   "metadata": {},
   "outputs": [
    {
     "data": {
      "text/plain": [
       "9983"
      ]
     },
     "execution_count": 24,
     "metadata": {},
     "output_type": "execute_result"
    }
   ],
   "source": [
    "len(data)"
   ]
  },
  {
   "cell_type": "code",
   "execution_count": 29,
   "metadata": {},
   "outputs": [],
   "source": [
    "from random import sample\n",
    "selected_1500 = sample(range(0,9983),1500)"
   ]
  },
  {
   "cell_type": "code",
   "execution_count": 36,
   "metadata": {},
   "outputs": [],
   "source": [
    "data_1500 = data.iloc[selected_1500,:]"
   ]
  },
  {
   "cell_type": "code",
   "execution_count": 72,
   "metadata": {},
   "outputs": [
    {
     "data": {
      "text/plain": [
       "5904    212277\n",
       "6362    165709\n",
       "4602    198466\n",
       "9582    237331\n",
       "4852    210639\n",
       "1764    162144\n",
       "5605    165336\n",
       "4027    168734\n",
       "487     170809\n",
       "5898    201599\n",
       "3772    209241\n",
       "5683    211555\n",
       "9866    247835\n",
       "475     170745\n",
       "4792    144322\n",
       "5173    173985\n",
       "4764    165153\n",
       "3632    243056\n",
       "469     170726\n",
       "4804    231145\n",
       "5297    159980\n",
       "4515    164681\n",
       "714     204942\n",
       "2504    245825\n",
       "3610    243024\n",
       "6481    176585\n",
       "6793    176792\n",
       "4879    210774\n",
       "8286    169772\n",
       "105     169987\n",
       "         ...  \n",
       "8667    234605\n",
       "5776    181488\n",
       "3413    239294\n",
       "1660    161766\n",
       "4004    168607\n",
       "3616    236925\n",
       "8046    219427\n",
       "367     167984\n",
       "5281    174324\n",
       "8044    189544\n",
       "2282    180344\n",
       "8166    166405\n",
       "6490    184536\n",
       "2430    146003\n",
       "9806    224101\n",
       "9058    185040\n",
       "6297    194877\n",
       "7173    181810\n",
       "7756    183975\n",
       "4740    181075\n",
       "246     159263\n",
       "3633    243057\n",
       "9656    223737\n",
       "7891    184889\n",
       "8669    234613\n",
       "4818    152388\n",
       "1233    155746\n",
       "3167    162980\n",
       "3366    193051\n",
       "7332    200340\n",
       "Name: article ID, Length: 1500, dtype: int64"
      ]
     },
     "execution_count": 72,
     "metadata": {},
     "output_type": "execute_result"
    }
   ],
   "source": [
    "data_1500['article ID']"
   ]
  },
  {
   "cell_type": "code",
   "execution_count": 58,
   "metadata": {},
   "outputs": [
    {
     "data": {
      "text/plain": [
       "['About 1,000 more Muslim families will be eligible for financial assistance from the Islamic Religious Council of Singapore (Muis) after it announced yesterday that it will broaden its qualifying criteria.',\n",
       " 'The monthly per capita income cap will be raised from $300 to $350, while the amount of assistance to each eligible family will also be increased by $30 a month.',\n",
       " 'Currently about 5,700 families receive this help each year.',\n",
       " 'These changes take effect from next month and will cost Muis an extra $2.57 million a year in zakat funds - the annual tithe contributed by Muslims.',\n",
       " \"Dr Yaacob Ibrahim, Minister-in-charge of Muslim Affairs and Communications and Information Minister, made the announcement at a Ramadan bonus disbursement event at Muis' premises in Braddell Road.\",\n",
       " 'Speaking in Malay to about 240 people from needy families, he said Muis had reviewed the criteria and zakat assistance after taking into account increases in living costs.',\n",
       " 'Ms Muzaiyanah Hamzah, head of social development at Muis, said the criteria for zakat assistance were last adjusted about seven years ago.',\n",
       " 'Asked why it has taken so long to do it again, she said \"Muis has always been very prudent\", adding that sustainability of the assistance scheme was important, and that Muis also uses zakat funds to help others such as those in Islamic religious institutions.',\n",
       " \"As part of this year's disbursement, more than $1.4 million will be given to 9,729 recipients.\",\n",
       " 'This is 8.2 per cent more than that given last year, mainly because the Ramadan bonus has been extended to more recipients from welfare homes.',\n",
       " 'Last year, Muis collected $28.4 million in zakat contributions.',\n",
       " \"Cleaner Abdullah Arbaa, 41, was among the guests at yesterday's event.\",\n",
       " 'His family of six will receive a Ramadan bonus of $600 this year.',\n",
       " '\"I\\'ll use the bonus to buy some clothes for my children and pay off some bills,\" said the father of four.',\n",
       " '\"I\\'m also very grateful for the increased amount of zakat assistance.',\n",
       " 'It\\'ll help to pay for some of the children\\'s school expenses.\"']"
      ]
     },
     "execution_count": 58,
     "metadata": {},
     "output_type": "execute_result"
    }
   ],
   "source": [
    "from nltk import tokenize\n",
    "sent=tokenize.sent_tokenize(data_1500[\"content\"][5904])\n",
    "len(sent)\n",
    "sent[0:(len(sent)-1)]"
   ]
  },
  {
   "cell_type": "code",
   "execution_count": 48,
   "metadata": {},
   "outputs": [
    {
     "name": "stderr",
     "output_type": "stream",
     "text": [
      "[nltk_data] Downloading package punkt to\n",
      "[nltk_data]     C:\\Users\\offic\\AppData\\Roaming\\nltk_data...\n",
      "[nltk_data]   Unzipping tokenizers\\punkt.zip.\n"
     ]
    },
    {
     "data": {
      "text/plain": [
       "True"
      ]
     },
     "execution_count": 48,
     "metadata": {},
     "output_type": "execute_result"
    }
   ],
   "source": [
    "nltk.download('punkt')"
   ]
  },
  {
   "cell_type": "code",
   "execution_count": 65,
   "metadata": {},
   "outputs": [
    {
     "name": "stderr",
     "output_type": "stream",
     "text": [
      "C:\\Users\\offic\\Anaconda3\\lib\\site-packages\\ipykernel_launcher.py:5: SettingWithCopyWarning: \n",
      "A value is trying to be set on a copy of a slice from a DataFrame.\n",
      "Try using .loc[row_indexer,col_indexer] = value instead\n",
      "\n",
      "See the caveats in the documentation: http://pandas.pydata.org/pandas-docs/stable/indexing.html#indexing-view-versus-copy\n",
      "  \"\"\"\n"
     ]
    }
   ],
   "source": [
    "def split_sent(row):\n",
    "    sent=tokenize.sent_tokenize(row[\"content\"])\n",
    "    return sent[0:(len(sent)-1)]\n",
    "\n",
    "data_1500[\"split_sent\"]=data_1500.apply (lambda row: split_sent(row),axis=1) "
   ]
  },
  {
   "cell_type": "code",
   "execution_count": 83,
   "metadata": {},
   "outputs": [],
   "source": [
    "data_1500_split=data_1500[[\"article ID\",\"split_sent\"]]"
   ]
  },
  {
   "cell_type": "code",
   "execution_count": 77,
   "metadata": {},
   "outputs": [],
   "source": [
    "data_1500_split.reset_index(inplace=True)"
   ]
  },
  {
   "cell_type": "code",
   "execution_count": 87,
   "metadata": {},
   "outputs": [],
   "source": [
    "data_1500_split_final = data_1500_split.split_sent.apply(pd.Series) \\\n",
    ".merge(data_1500_split,left_index=True,right_index=True) \\\n",
    ".drop([\"split_sent\"],axis=1) \\\n",
    ".melt(id_vars=['article ID'],value_name=\"text\") \\\n",
    ".drop(\"variable\",axis=1) \\\n",
    ".dropna()"
   ]
  },
  {
   "cell_type": "code",
   "execution_count": 93,
   "metadata": {},
   "outputs": [],
   "source": [
    "# shuffle the rows\n",
    "data_1500_split_final = data_1500_split_final.sample(frac=1).reset_index(drop=True)"
   ]
  },
  {
   "cell_type": "code",
   "execution_count": 90,
   "metadata": {},
   "outputs": [
    {
     "data": {
      "text/plain": [
       "24922"
      ]
     },
     "execution_count": 90,
     "metadata": {},
     "output_type": "execute_result"
    }
   ],
   "source": [
    "len(data_1500_split_final)"
   ]
  },
  {
   "cell_type": "code",
   "execution_count": 96,
   "metadata": {},
   "outputs": [],
   "source": [
    "# Output into 5 separate files\n",
    "data_1500_split_final[0:5000].to_csv(\"ST_MTurk_1500_1.csv\")\n",
    "data_1500_split_final[5000:10000].to_csv(\"ST_MTurk_1500_2.csv\")\n",
    "data_1500_split_final[10000:15000].to_csv(\"ST_MTurk_1500_3.csv\")\n",
    "data_1500_split_final[15000:20000].to_csv(\"ST_MTurk_1500_4.csv\")\n",
    "data_1500_split_final[20000:24922].to_csv(\"ST_MTurk_1500_5.csv\")"
   ]
  },
  {
   "cell_type": "code",
   "execution_count": 97,
   "metadata": {},
   "outputs": [],
   "source": [
    "data_1500_split_final[0:100].to_csv(\"ST_MTurk_100.csv\")"
   ]
  },
  {
   "cell_type": "code",
   "execution_count": null,
   "metadata": {},
   "outputs": [],
   "source": []
  }
 ],
 "metadata": {
  "kernelspec": {
   "display_name": "Python 3",
   "language": "python",
   "name": "python3"
  },
  "language_info": {
   "codemirror_mode": {
    "name": "ipython",
    "version": 3
   },
   "file_extension": ".py",
   "mimetype": "text/x-python",
   "name": "python",
   "nbconvert_exporter": "python",
   "pygments_lexer": "ipython3",
   "version": "3.7.0"
  }
 },
 "nbformat": 4,
 "nbformat_minor": 2
}
