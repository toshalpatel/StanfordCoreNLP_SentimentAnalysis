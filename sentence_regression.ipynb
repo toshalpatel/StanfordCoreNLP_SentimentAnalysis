{
 "cells": [
  {
   "cell_type": "code",
   "execution_count": 97,
   "metadata": {},
   "outputs": [],
   "source": [
    "import pandas as pd\n",
    "import re\n",
    "import numpy as np\n",
    "import matplotlib.pyplot as plt\n",
    "import scipy.stats as ss"
   ]
  },
  {
   "cell_type": "code",
   "execution_count": 98,
   "metadata": {},
   "outputs": [],
   "source": [
    "# read the data\n",
    "ssdata = pd.read_csv(\"310320_articles_sentence-level_ss.csv\")\n",
    "asdata = pd.read_csv(\"310320_MTurk_article_labels_agreed.csv\")"
   ]
  },
  {
   "cell_type": "code",
   "execution_count": 99,
   "metadata": {},
   "outputs": [
    {
     "name": "stdout",
     "output_type": "stream",
     "text": [
      "Index(['new_id', 'sentence', 'snlp_sentiment_score'], dtype='object')\n",
      "Index(['article_id', 'category', 'article_x', 'sentiment_label',\n",
      "       'sentiment_score'],\n",
      "      dtype='object')\n"
     ]
    }
   ],
   "source": [
    "print(ssdata.columns)\n",
    "print(asdata.columns)"
   ]
  },
  {
   "cell_type": "code",
   "execution_count": 100,
   "metadata": {},
   "outputs": [],
   "source": [
    "ssdata.columns = ['article_id','sentence','ss']\n",
    "asdata.columns = ['article_id', 'category', 'article', 'sentiment_label','as']"
   ]
  },
  {
   "cell_type": "code",
   "execution_count": 101,
   "metadata": {},
   "outputs": [
    {
     "name": "stdout",
     "output_type": "stream",
     "text": [
      "Index(['article_id', 'category', 'article', 'sentiment_label', 'as',\n",
      "       'sentence', 'ss'],\n",
      "      dtype='object')\n",
      "10620\n"
     ]
    }
   ],
   "source": [
    "data = pd.merge(asdata, ssdata, on='article_id')\n",
    "print(data.columns)\n",
    "print(len(data.index))"
   ]
  },
  {
   "cell_type": "code",
   "execution_count": 102,
   "metadata": {},
   "outputs": [],
   "source": [
    "data=data.dropna()"
   ]
  },
  {
   "cell_type": "code",
   "execution_count": 103,
   "metadata": {},
   "outputs": [
    {
     "data": {
      "text/html": [
       "<div>\n",
       "<style scoped>\n",
       "    .dataframe tbody tr th:only-of-type {\n",
       "        vertical-align: middle;\n",
       "    }\n",
       "\n",
       "    .dataframe tbody tr th {\n",
       "        vertical-align: top;\n",
       "    }\n",
       "\n",
       "    .dataframe thead th {\n",
       "        text-align: right;\n",
       "    }\n",
       "</style>\n",
       "<table border=\"1\" class=\"dataframe\">\n",
       "  <thead>\n",
       "    <tr style=\"text-align: right;\">\n",
       "      <th></th>\n",
       "      <th>article_id</th>\n",
       "      <th>ss</th>\n",
       "    </tr>\n",
       "  </thead>\n",
       "  <tbody>\n",
       "    <tr>\n",
       "      <th>0</th>\n",
       "      <td>143454</td>\n",
       "      <td>21</td>\n",
       "    </tr>\n",
       "    <tr>\n",
       "      <th>1</th>\n",
       "      <td>143459</td>\n",
       "      <td>42</td>\n",
       "    </tr>\n",
       "    <tr>\n",
       "      <th>2</th>\n",
       "      <td>143515</td>\n",
       "      <td>26</td>\n",
       "    </tr>\n",
       "    <tr>\n",
       "      <th>3</th>\n",
       "      <td>143560</td>\n",
       "      <td>34</td>\n",
       "    </tr>\n",
       "    <tr>\n",
       "      <th>4</th>\n",
       "      <td>143813</td>\n",
       "      <td>17</td>\n",
       "    </tr>\n",
       "  </tbody>\n",
       "</table>\n",
       "</div>"
      ],
      "text/plain": [
       "   article_id  ss\n",
       "0      143454  21\n",
       "1      143459  42\n",
       "2      143515  26\n",
       "3      143560  34\n",
       "4      143813  17"
      ]
     },
     "execution_count": 103,
     "metadata": {},
     "output_type": "execute_result"
    }
   ],
   "source": [
    "sent_count.head()"
   ]
  },
  {
   "cell_type": "code",
   "execution_count": 104,
   "metadata": {},
   "outputs": [
    {
     "data": {
      "text/plain": [
       "72"
      ]
     },
     "execution_count": 104,
     "metadata": {},
     "output_type": "execute_result"
    }
   ],
   "source": [
    "max(sent_count['ss'])"
   ]
  },
  {
   "cell_type": "code",
   "execution_count": 105,
   "metadata": {},
   "outputs": [
    {
     "data": {
      "text/plain": [
       "(array([44., 69., 55., 35., 32., 21., 19., 13., 12.,  5.]),\n",
       " array([ 1. ,  8.1, 15.2, 22.3, 29.4, 36.5, 43.6, 50.7, 57.8, 64.9, 72. ]),\n",
       " <a list of 10 Patch objects>)"
      ]
     },
     "execution_count": 105,
     "metadata": {},
     "output_type": "execute_result"
    },
    {
     "data": {
      "image/png": "[encoded data removed]",
      "text/plain": [
       "<Figure size 432x288 with 1 Axes>"
      ]
     },
     "metadata": {
      "needs_background": "light"
     },
     "output_type": "display_data"
    }
   ],
   "source": [
    "%matplotlib inline\n",
    "plt.hist(sent_count['ss'])"
   ]
  },
  {
   "cell_type": "code",
   "execution_count": 106,
   "metadata": {},
   "outputs": [
    {
     "name": "stdout",
     "output_type": "stream",
     "text": [
      "305\n"
     ]
    }
   ],
   "source": [
    "sent_count = sent_count[sent_count['ss'] <= 75]\n",
    "print(len(sent_count.index))"
   ]
  },
  {
   "cell_type": "code",
   "execution_count": 107,
   "metadata": {},
   "outputs": [
    {
     "name": "stdout",
     "output_type": "stream",
     "text": [
      "72\n"
     ]
    }
   ],
   "source": [
    "sent_count.head(20)\n",
    "print(max(sent_count['ss']))"
   ]
  },
  {
   "cell_type": "code",
   "execution_count": 108,
   "metadata": {},
   "outputs": [
    {
     "name": "stdout",
     "output_type": "stream",
     "text": [
      "              Y  s01  s02  s03  s04  s05  s06  s07  s08  s09 ...   s63  s64  \\\n",
      "article_id                                                   ...              \n",
      "143454.0    3.0  1.0  4.0  1.0  4.0  0.0  0.0  0.0  0.0  1.0 ...   0.0  0.0   \n",
      "143459.0    4.0  4.0  2.0  3.0  3.0  0.0  3.0  3.0  2.0  2.0 ...   0.0  0.0   \n",
      "143515.0    3.0  1.0  1.0  1.0  4.0  2.0  2.0  3.0  1.0  1.0 ...   0.0  0.0   \n",
      "143560.0    3.0  3.0  1.0  3.0  4.0  1.0  1.0  0.0  1.0  3.0 ...   0.0  0.0   \n",
      "143813.0    3.0  4.0  0.0  0.0  1.0  1.0  1.0  0.0  1.0  0.0 ...   0.0  0.0   \n",
      "\n",
      "            s65  s66  s67  s68  s69  s70  s71  s72  \n",
      "article_id                                          \n",
      "143454.0    0.0  0.0  0.0  0.0  0.0  0.0  0.0  0.0  \n",
      "143459.0    0.0  0.0  0.0  0.0  0.0  0.0  0.0  0.0  \n",
      "143515.0    0.0  0.0  0.0  0.0  0.0  0.0  0.0  0.0  \n",
      "143560.0    0.0  0.0  0.0  0.0  0.0  0.0  0.0  0.0  \n",
      "143813.0    0.0  0.0  0.0  0.0  0.0  0.0  0.0  0.0  \n",
      "\n",
      "[5 rows x 73 columns]\n"
     ]
    }
   ],
   "source": [
    "rdata = pd.DataFrame()\n",
    "\n",
    "count = 1\n",
    "\n",
    "for aid, groupdata in data.groupby(['article_id']):\n",
    "    d = {}\n",
    "    \n",
    "    if aid in sent_count['article_id'].tolist():\n",
    "        d.update({'article_id': aid})\n",
    "        d.update({'Y': int(max(groupdata['as']))})\n",
    "    \n",
    "        for i in groupdata.index:\n",
    "            si = \"s\" + \"{:02d}\".format(count)\n",
    "            d.update({si: int(groupdata.loc[i,'ss'])})       \n",
    "            count += 1\n",
    "\n",
    "        if count < 72:\n",
    "            for c in range(count, 73):\n",
    "                si = \"s\" + \"{:02d}\".format(c)\n",
    "                d.update({si:int(0)})\n",
    "\n",
    "        count = 1\n",
    "        rdata = rdata.append(d,ignore_index=True)\n",
    "\n",
    "rdata = rdata.set_index('article_id')\n",
    "print(rdata.head())"
   ]
  },
  {
   "cell_type": "code",
   "execution_count": 109,
   "metadata": {},
   "outputs": [],
   "source": [
    "rdata.to_csv(\"articles_for_regression.csv\")"
   ]
  },
  {
   "cell_type": "markdown",
   "metadata": {},
   "source": [
    "# OLS Regression"
   ]
  },
  {
   "cell_type": "code",
   "execution_count": 110,
   "metadata": {},
   "outputs": [
    {
     "name": "stderr",
     "output_type": "stream",
     "text": [
      "/NAS/home01/toshal/anaconda3/lib/python3.7/site-packages/statsmodels/base/model.py:1100: RuntimeWarning: invalid value encountered in true_divide\n",
      "  return self.params / self.bse\n",
      "/NAS/home01/toshal/anaconda3/lib/python3.7/site-packages/scipy/stats/_distn_infrastructure.py:879: RuntimeWarning: invalid value encountered in greater\n",
      "  return (self.a < x) & (x < self.b)\n",
      "/NAS/home01/toshal/anaconda3/lib/python3.7/site-packages/scipy/stats/_distn_infrastructure.py:879: RuntimeWarning: invalid value encountered in less\n",
      "  return (self.a < x) & (x < self.b)\n",
      "/NAS/home01/toshal/anaconda3/lib/python3.7/site-packages/scipy/stats/_distn_infrastructure.py:1821: RuntimeWarning: invalid value encountered in less_equal\n",
      "  cond2 = cond0 & (x <= self.a)\n"
     ]
    },
    {
     "data": {
      "text/html": [
       "<table class=\"simpletable\">\n",
       "<caption>OLS Regression Results</caption>\n",
       "<tr>\n",
       "  <th>Dep. Variable:</th>            <td>Y</td>        <th>  R-squared:         </th> <td>   0.266</td>\n",
       "</tr>\n",
       "<tr>\n",
       "  <th>Model:</th>                   <td>OLS</td>       <th>  Adj. R-squared:    </th> <td>   0.054</td>\n",
       "</tr>\n",
       "<tr>\n",
       "  <th>Method:</th>             <td>Least Squares</td>  <th>  F-statistic:       </th> <td>   1.255</td>\n",
       "</tr>\n",
       "<tr>\n",
       "  <th>Date:</th>             <td>Wed, 08 Apr 2020</td> <th>  Prob (F-statistic):</th>  <td> 0.110</td> \n",
       "</tr>\n",
       "<tr>\n",
       "  <th>Time:</th>                 <td>18:57:01</td>     <th>  Log-Likelihood:    </th> <td> -396.81</td>\n",
       "</tr>\n",
       "<tr>\n",
       "  <th>No. Observations:</th>      <td>   305</td>      <th>  AIC:               </th> <td>   931.6</td>\n",
       "</tr>\n",
       "<tr>\n",
       "  <th>Df Residuals:</th>          <td>   236</td>      <th>  BIC:               </th> <td>   1188.</td>\n",
       "</tr>\n",
       "<tr>\n",
       "  <th>Df Model:</th>              <td>    68</td>      <th>                     </th>     <td> </td>   \n",
       "</tr>\n",
       "<tr>\n",
       "  <th>Covariance Type:</th>      <td>nonrobust</td>    <th>                     </th>     <td> </td>   \n",
       "</tr>\n",
       "</table>\n",
       "<table class=\"simpletable\">\n",
       "<tr>\n",
       "    <td></td>       <th>coef</th>     <th>std err</th>      <th>t</th>      <th>P>|t|</th>  <th>[0.025</th>    <th>0.975]</th>  \n",
       "</tr>\n",
       "<tr>\n",
       "  <th>const</th> <td>    1.4009</td> <td>    0.221</td> <td>    6.338</td> <td> 0.000</td> <td>    0.965</td> <td>    1.836</td>\n",
       "</tr>\n",
       "<tr>\n",
       "  <th>s01</th>   <td>    0.1228</td> <td>    0.053</td> <td>    2.307</td> <td> 0.022</td> <td>    0.018</td> <td>    0.228</td>\n",
       "</tr>\n",
       "<tr>\n",
       "  <th>s02</th>   <td>    0.1916</td> <td>    0.056</td> <td>    3.450</td> <td> 0.001</td> <td>    0.082</td> <td>    0.301</td>\n",
       "</tr>\n",
       "<tr>\n",
       "  <th>s03</th>   <td>    0.0783</td> <td>    0.055</td> <td>    1.414</td> <td> 0.159</td> <td>   -0.031</td> <td>    0.187</td>\n",
       "</tr>\n",
       "<tr>\n",
       "  <th>s04</th>   <td>    0.0737</td> <td>    0.051</td> <td>    1.442</td> <td> 0.151</td> <td>   -0.027</td> <td>    0.174</td>\n",
       "</tr>\n",
       "<tr>\n",
       "  <th>s05</th>   <td>    0.0389</td> <td>    0.060</td> <td>    0.651</td> <td> 0.515</td> <td>   -0.079</td> <td>    0.157</td>\n",
       "</tr>\n",
       "<tr>\n",
       "  <th>s06</th>   <td>    0.0014</td> <td>    0.052</td> <td>    0.026</td> <td> 0.979</td> <td>   -0.101</td> <td>    0.103</td>\n",
       "</tr>\n",
       "<tr>\n",
       "  <th>s07</th>   <td>    0.0542</td> <td>    0.055</td> <td>    0.988</td> <td> 0.324</td> <td>   -0.054</td> <td>    0.162</td>\n",
       "</tr>\n",
       "<tr>\n",
       "  <th>s08</th>   <td>    0.0495</td> <td>    0.056</td> <td>    0.885</td> <td> 0.377</td> <td>   -0.061</td> <td>    0.160</td>\n",
       "</tr>\n",
       "<tr>\n",
       "  <th>s09</th>   <td>   -0.0773</td> <td>    0.055</td> <td>   -1.415</td> <td> 0.158</td> <td>   -0.185</td> <td>    0.030</td>\n",
       "</tr>\n",
       "<tr>\n",
       "  <th>s10</th>   <td>   -0.0058</td> <td>    0.057</td> <td>   -0.101</td> <td> 0.920</td> <td>   -0.118</td> <td>    0.107</td>\n",
       "</tr>\n",
       "<tr>\n",
       "  <th>s11</th>   <td>   -0.0518</td> <td>    0.059</td> <td>   -0.874</td> <td> 0.383</td> <td>   -0.169</td> <td>    0.065</td>\n",
       "</tr>\n",
       "<tr>\n",
       "  <th>s12</th>   <td>    0.0914</td> <td>    0.060</td> <td>    1.518</td> <td> 0.130</td> <td>   -0.027</td> <td>    0.210</td>\n",
       "</tr>\n",
       "<tr>\n",
       "  <th>s13</th>   <td>    0.1052</td> <td>    0.061</td> <td>    1.713</td> <td> 0.088</td> <td>   -0.016</td> <td>    0.226</td>\n",
       "</tr>\n",
       "<tr>\n",
       "  <th>s14</th>   <td>   -0.0343</td> <td>    0.060</td> <td>   -0.569</td> <td> 0.570</td> <td>   -0.153</td> <td>    0.084</td>\n",
       "</tr>\n",
       "<tr>\n",
       "  <th>s15</th>   <td>   -0.0670</td> <td>    0.067</td> <td>   -1.006</td> <td> 0.316</td> <td>   -0.198</td> <td>    0.064</td>\n",
       "</tr>\n",
       "<tr>\n",
       "  <th>s16</th>   <td>    0.0852</td> <td>    0.062</td> <td>    1.371</td> <td> 0.172</td> <td>   -0.037</td> <td>    0.208</td>\n",
       "</tr>\n",
       "<tr>\n",
       "  <th>s17</th>   <td>    0.0543</td> <td>    0.065</td> <td>    0.840</td> <td> 0.402</td> <td>   -0.073</td> <td>    0.182</td>\n",
       "</tr>\n",
       "<tr>\n",
       "  <th>s18</th>   <td>   -0.0583</td> <td>    0.066</td> <td>   -0.889</td> <td> 0.375</td> <td>   -0.187</td> <td>    0.071</td>\n",
       "</tr>\n",
       "<tr>\n",
       "  <th>s19</th>   <td>   -0.0267</td> <td>    0.065</td> <td>   -0.410</td> <td> 0.682</td> <td>   -0.155</td> <td>    0.102</td>\n",
       "</tr>\n",
       "<tr>\n",
       "  <th>s20</th>   <td>   -0.0126</td> <td>    0.080</td> <td>   -0.159</td> <td> 0.874</td> <td>   -0.169</td> <td>    0.144</td>\n",
       "</tr>\n",
       "<tr>\n",
       "  <th>s21</th>   <td>    0.1023</td> <td>    0.080</td> <td>    1.285</td> <td> 0.200</td> <td>   -0.054</td> <td>    0.259</td>\n",
       "</tr>\n",
       "<tr>\n",
       "  <th>s22</th>   <td>   -0.1622</td> <td>    0.077</td> <td>   -2.102</td> <td> 0.037</td> <td>   -0.314</td> <td>   -0.010</td>\n",
       "</tr>\n",
       "<tr>\n",
       "  <th>s23</th>   <td>   -0.1260</td> <td>    0.080</td> <td>   -1.573</td> <td> 0.117</td> <td>   -0.284</td> <td>    0.032</td>\n",
       "</tr>\n",
       "<tr>\n",
       "  <th>s24</th>   <td>    0.1053</td> <td>    0.081</td> <td>    1.297</td> <td> 0.196</td> <td>   -0.055</td> <td>    0.265</td>\n",
       "</tr>\n",
       "<tr>\n",
       "  <th>s25</th>   <td>    0.0114</td> <td>    0.085</td> <td>    0.135</td> <td> 0.893</td> <td>   -0.155</td> <td>    0.178</td>\n",
       "</tr>\n",
       "<tr>\n",
       "  <th>s26</th>   <td>    0.1517</td> <td>    0.115</td> <td>    1.316</td> <td> 0.189</td> <td>   -0.075</td> <td>    0.379</td>\n",
       "</tr>\n",
       "<tr>\n",
       "  <th>s27</th>   <td>   -0.2297</td> <td>    0.110</td> <td>   -2.091</td> <td> 0.038</td> <td>   -0.446</td> <td>   -0.013</td>\n",
       "</tr>\n",
       "<tr>\n",
       "  <th>s28</th>   <td>   -0.0730</td> <td>    0.110</td> <td>   -0.665</td> <td> 0.507</td> <td>   -0.289</td> <td>    0.143</td>\n",
       "</tr>\n",
       "<tr>\n",
       "  <th>s29</th>   <td>   -0.0324</td> <td>    0.105</td> <td>   -0.308</td> <td> 0.758</td> <td>   -0.240</td> <td>    0.175</td>\n",
       "</tr>\n",
       "<tr>\n",
       "  <th>s30</th>   <td>    0.1512</td> <td>    0.111</td> <td>    1.367</td> <td> 0.173</td> <td>   -0.067</td> <td>    0.369</td>\n",
       "</tr>\n",
       "<tr>\n",
       "  <th>s31</th>   <td>   -0.0917</td> <td>    0.100</td> <td>   -0.914</td> <td> 0.362</td> <td>   -0.289</td> <td>    0.106</td>\n",
       "</tr>\n",
       "<tr>\n",
       "  <th>s32</th>   <td>   -0.0418</td> <td>    0.110</td> <td>   -0.380</td> <td> 0.704</td> <td>   -0.258</td> <td>    0.175</td>\n",
       "</tr>\n",
       "<tr>\n",
       "  <th>s33</th>   <td>   -0.0031</td> <td>    0.126</td> <td>   -0.024</td> <td> 0.981</td> <td>   -0.251</td> <td>    0.245</td>\n",
       "</tr>\n",
       "<tr>\n",
       "  <th>s34</th>   <td>    0.1990</td> <td>    0.141</td> <td>    1.409</td> <td> 0.160</td> <td>   -0.079</td> <td>    0.477</td>\n",
       "</tr>\n",
       "<tr>\n",
       "  <th>s35</th>   <td>    0.1175</td> <td>    0.122</td> <td>    0.962</td> <td> 0.337</td> <td>   -0.123</td> <td>    0.358</td>\n",
       "</tr>\n",
       "<tr>\n",
       "  <th>s36</th>   <td>   -0.1046</td> <td>    0.124</td> <td>   -0.842</td> <td> 0.401</td> <td>   -0.349</td> <td>    0.140</td>\n",
       "</tr>\n",
       "<tr>\n",
       "  <th>s37</th>   <td>    0.0942</td> <td>    0.131</td> <td>    0.717</td> <td> 0.474</td> <td>   -0.165</td> <td>    0.353</td>\n",
       "</tr>\n",
       "<tr>\n",
       "  <th>s38</th>   <td>    0.0009</td> <td>    0.158</td> <td>    0.006</td> <td> 0.995</td> <td>   -0.310</td> <td>    0.312</td>\n",
       "</tr>\n",
       "<tr>\n",
       "  <th>s39</th>   <td>    0.2611</td> <td>    0.131</td> <td>    1.992</td> <td> 0.048</td> <td>    0.003</td> <td>    0.519</td>\n",
       "</tr>\n",
       "<tr>\n",
       "  <th>s40</th>   <td>   -0.1527</td> <td>    0.158</td> <td>   -0.964</td> <td> 0.336</td> <td>   -0.465</td> <td>    0.159</td>\n",
       "</tr>\n",
       "<tr>\n",
       "  <th>s41</th>   <td>   -0.3586</td> <td>    0.206</td> <td>   -1.737</td> <td> 0.084</td> <td>   -0.765</td> <td>    0.048</td>\n",
       "</tr>\n",
       "<tr>\n",
       "  <th>s42</th>   <td>   -0.1993</td> <td>    0.149</td> <td>   -1.341</td> <td> 0.181</td> <td>   -0.492</td> <td>    0.093</td>\n",
       "</tr>\n",
       "<tr>\n",
       "  <th>s43</th>   <td>    0.0525</td> <td>    0.147</td> <td>    0.357</td> <td> 0.721</td> <td>   -0.237</td> <td>    0.342</td>\n",
       "</tr>\n",
       "<tr>\n",
       "  <th>s44</th>   <td>    0.1386</td> <td>    0.167</td> <td>    0.829</td> <td> 0.408</td> <td>   -0.191</td> <td>    0.468</td>\n",
       "</tr>\n",
       "<tr>\n",
       "  <th>s45</th>   <td>    0.7344</td> <td>    0.241</td> <td>    3.050</td> <td> 0.003</td> <td>    0.260</td> <td>    1.209</td>\n",
       "</tr>\n",
       "<tr>\n",
       "  <th>s46</th>   <td>   -0.0948</td> <td>    0.267</td> <td>   -0.355</td> <td> 0.723</td> <td>   -0.620</td> <td>    0.431</td>\n",
       "</tr>\n",
       "<tr>\n",
       "  <th>s47</th>   <td>    0.0446</td> <td>    0.205</td> <td>    0.218</td> <td> 0.828</td> <td>   -0.358</td> <td>    0.448</td>\n",
       "</tr>\n",
       "<tr>\n",
       "  <th>s48</th>   <td>   -0.0429</td> <td>    0.241</td> <td>   -0.178</td> <td> 0.859</td> <td>   -0.517</td> <td>    0.432</td>\n",
       "</tr>\n",
       "<tr>\n",
       "  <th>s49</th>   <td>   -0.3466</td> <td>    0.242</td> <td>   -1.432</td> <td> 0.154</td> <td>   -0.824</td> <td>    0.130</td>\n",
       "</tr>\n",
       "<tr>\n",
       "  <th>s50</th>   <td>    0.1615</td> <td>    0.293</td> <td>    0.552</td> <td> 0.582</td> <td>   -0.415</td> <td>    0.738</td>\n",
       "</tr>\n",
       "<tr>\n",
       "  <th>s51</th>   <td>    0.3167</td> <td>    0.298</td> <td>    1.064</td> <td> 0.288</td> <td>   -0.270</td> <td>    0.903</td>\n",
       "</tr>\n",
       "<tr>\n",
       "  <th>s52</th>   <td>    0.3772</td> <td>    0.253</td> <td>    1.494</td> <td> 0.137</td> <td>   -0.120</td> <td>    0.875</td>\n",
       "</tr>\n",
       "<tr>\n",
       "  <th>s53</th>   <td>   -0.1690</td> <td>    0.351</td> <td>   -0.481</td> <td> 0.631</td> <td>   -0.861</td> <td>    0.523</td>\n",
       "</tr>\n",
       "<tr>\n",
       "  <th>s54</th>   <td>   -0.2927</td> <td>    0.283</td> <td>   -1.033</td> <td> 0.303</td> <td>   -0.851</td> <td>    0.265</td>\n",
       "</tr>\n",
       "<tr>\n",
       "  <th>s55</th>   <td>   -0.3926</td> <td>    0.470</td> <td>   -0.835</td> <td> 0.405</td> <td>   -1.319</td> <td>    0.534</td>\n",
       "</tr>\n",
       "<tr>\n",
       "  <th>s56</th>   <td>   -1.0180</td> <td>    0.660</td> <td>   -1.543</td> <td> 0.124</td> <td>   -2.318</td> <td>    0.282</td>\n",
       "</tr>\n",
       "<tr>\n",
       "  <th>s57</th>   <td>    0.1132</td> <td>    0.286</td> <td>    0.395</td> <td> 0.693</td> <td>   -0.451</td> <td>    0.677</td>\n",
       "</tr>\n",
       "<tr>\n",
       "  <th>s58</th>   <td>    2.3508</td> <td>    0.833</td> <td>    2.821</td> <td> 0.005</td> <td>    0.709</td> <td>    3.993</td>\n",
       "</tr>\n",
       "<tr>\n",
       "  <th>s59</th>   <td>   -2.4898</td> <td>    0.925</td> <td>   -2.692</td> <td> 0.008</td> <td>   -4.312</td> <td>   -0.668</td>\n",
       "</tr>\n",
       "<tr>\n",
       "  <th>s60</th>   <td>    2.6226</td> <td>    1.501</td> <td>    1.747</td> <td> 0.082</td> <td>   -0.335</td> <td>    5.580</td>\n",
       "</tr>\n",
       "<tr>\n",
       "  <th>s61</th>   <td>    0.6508</td> <td>    1.052</td> <td>    0.619</td> <td> 0.537</td> <td>   -1.422</td> <td>    2.723</td>\n",
       "</tr>\n",
       "<tr>\n",
       "  <th>s62</th>   <td>    5.1071</td> <td>    1.649</td> <td>    3.096</td> <td> 0.002</td> <td>    1.858</td> <td>    8.357</td>\n",
       "</tr>\n",
       "<tr>\n",
       "  <th>s63</th>   <td>    7.0792</td> <td>    3.419</td> <td>    2.071</td> <td> 0.039</td> <td>    0.343</td> <td>   13.815</td>\n",
       "</tr>\n",
       "<tr>\n",
       "  <th>s64</th>   <td>  -12.4963</td> <td>    4.974</td> <td>   -2.512</td> <td> 0.013</td> <td>  -22.296</td> <td>   -2.697</td>\n",
       "</tr>\n",
       "<tr>\n",
       "  <th>s65</th>   <td>    4.1444</td> <td>    3.915</td> <td>    1.059</td> <td> 0.291</td> <td>   -3.567</td> <td>   11.856</td>\n",
       "</tr>\n",
       "<tr>\n",
       "  <th>s66</th>   <td>   13.7783</td> <td>    5.930</td> <td>    2.324</td> <td> 0.021</td> <td>    2.096</td> <td>   25.460</td>\n",
       "</tr>\n",
       "<tr>\n",
       "  <th>s67</th>   <td>  -35.6411</td> <td>   15.940</td> <td>   -2.236</td> <td> 0.026</td> <td>  -67.044</td> <td>   -4.239</td>\n",
       "</tr>\n",
       "<tr>\n",
       "  <th>s68</th>   <td>   -0.8039</td> <td>    0.322</td> <td>   -2.500</td> <td> 0.013</td> <td>   -1.437</td> <td>   -0.170</td>\n",
       "</tr>\n",
       "<tr>\n",
       "  <th>s69</th>   <td>         0</td> <td>        0</td> <td>      nan</td> <td>   nan</td> <td>        0</td> <td>        0</td>\n",
       "</tr>\n",
       "<tr>\n",
       "  <th>s70</th>   <td>   -2.4117</td> <td>    0.965</td> <td>   -2.500</td> <td> 0.013</td> <td>   -4.312</td> <td>   -0.511</td>\n",
       "</tr>\n",
       "<tr>\n",
       "  <th>s71</th>   <td>   -2.4117</td> <td>    0.965</td> <td>   -2.500</td> <td> 0.013</td> <td>   -4.312</td> <td>   -0.511</td>\n",
       "</tr>\n",
       "<tr>\n",
       "  <th>s72</th>   <td>   -1.6078</td> <td>    0.643</td> <td>   -2.500</td> <td> 0.013</td> <td>   -2.875</td> <td>   -0.341</td>\n",
       "</tr>\n",
       "</table>\n",
       "<table class=\"simpletable\">\n",
       "<tr>\n",
       "  <th>Omnibus:</th>       <td>19.944</td> <th>  Durbin-Watson:     </th> <td>   1.869</td>\n",
       "</tr>\n",
       "<tr>\n",
       "  <th>Prob(Omnibus):</th> <td> 0.000</td> <th>  Jarque-Bera (JB):  </th> <td>  22.676</td>\n",
       "</tr>\n",
       "<tr>\n",
       "  <th>Skew:</th>          <td>-0.663</td> <th>  Prob(JB):          </th> <td>1.19e-05</td>\n",
       "</tr>\n",
       "<tr>\n",
       "  <th>Kurtosis:</th>      <td> 2.833</td> <th>  Cond. No.          </th> <td>1.12e+16</td>\n",
       "</tr>\n",
       "</table><br/><br/>Warnings:<br/>[1] Standard Errors assume that the covariance matrix of the errors is correctly specified.<br/>[2] The smallest eigenvalue is 1.26e-28. This might indicate that there are<br/>strong multicollinearity problems or that the design matrix is singular."
      ],
      "text/plain": [
       "<class 'statsmodels.iolib.summary.Summary'>\n",
       "\"\"\"\n",
       "                            OLS Regression Results                            \n",
       "==============================================================================\n",
       "Dep. Variable:                      Y   R-squared:                       0.266\n",
       "Model:                            OLS   Adj. R-squared:                  0.054\n",
       "Method:                 Least Squares   F-statistic:                     1.255\n",
       "Date:                Wed, 08 Apr 2020   Prob (F-statistic):              0.110\n",
       "Time:                        18:57:01   Log-Likelihood:                -396.81\n",
       "No. Observations:                 305   AIC:                             931.6\n",
       "Df Residuals:                     236   BIC:                             1188.\n",
       "Df Model:                          68                                         \n",
       "Covariance Type:            nonrobust                                         \n",
       "==============================================================================\n",
       "                 coef    std err          t      P>|t|      [0.025      0.975]\n",
       "------------------------------------------------------------------------------\n",
       "const          1.4009      0.221      6.338      0.000       0.965       1.836\n",
       "s01            0.1228      0.053      2.307      0.022       0.018       0.228\n",
       "s02            0.1916      0.056      3.450      0.001       0.082       0.301\n",
       "s03            0.0783      0.055      1.414      0.159      -0.031       0.187\n",
       "s04            0.0737      0.051      1.442      0.151      -0.027       0.174\n",
       "s05            0.0389      0.060      0.651      0.515      -0.079       0.157\n",
       "s06            0.0014      0.052      0.026      0.979      -0.101       0.103\n",
       "s07            0.0542      0.055      0.988      0.324      -0.054       0.162\n",
       "s08            0.0495      0.056      0.885      0.377      -0.061       0.160\n",
       "s09           -0.0773      0.055     -1.415      0.158      -0.185       0.030\n",
       "s10           -0.0058      0.057     -0.101      0.920      -0.118       0.107\n",
       "s11           -0.0518      0.059     -0.874      0.383      -0.169       0.065\n",
       "s12            0.0914      0.060      1.518      0.130      -0.027       0.210\n",
       "s13            0.1052      0.061      1.713      0.088      -0.016       0.226\n",
       "s14           -0.0343      0.060     -0.569      0.570      -0.153       0.084\n",
       "s15           -0.0670      0.067     -1.006      0.316      -0.198       0.064\n",
       "s16            0.0852      0.062      1.371      0.172      -0.037       0.208\n",
       "s17            0.0543      0.065      0.840      0.402      -0.073       0.182\n",
       "s18           -0.0583      0.066     -0.889      0.375      -0.187       0.071\n",
       "s19           -0.0267      0.065     -0.410      0.682      -0.155       0.102\n",
       "s20           -0.0126      0.080     -0.159      0.874      -0.169       0.144\n",
       "s21            0.1023      0.080      1.285      0.200      -0.054       0.259\n",
       "s22           -0.1622      0.077     -2.102      0.037      -0.314      -0.010\n",
       "s23           -0.1260      0.080     -1.573      0.117      -0.284       0.032\n",
       "s24            0.1053      0.081      1.297      0.196      -0.055       0.265\n",
       "s25            0.0114      0.085      0.135      0.893      -0.155       0.178\n",
       "s26            0.1517      0.115      1.316      0.189      -0.075       0.379\n",
       "s27           -0.2297      0.110     -2.091      0.038      -0.446      -0.013\n",
       "s28           -0.0730      0.110     -0.665      0.507      -0.289       0.143\n",
       "s29           -0.0324      0.105     -0.308      0.758      -0.240       0.175\n",
       "s30            0.1512      0.111      1.367      0.173      -0.067       0.369\n",
       "s31           -0.0917      0.100     -0.914      0.362      -0.289       0.106\n",
       "s32           -0.0418      0.110     -0.380      0.704      -0.258       0.175\n",
       "s33           -0.0031      0.126     -0.024      0.981      -0.251       0.245\n",
       "s34            0.1990      0.141      1.409      0.160      -0.079       0.477\n",
       "s35            0.1175      0.122      0.962      0.337      -0.123       0.358\n",
       "s36           -0.1046      0.124     -0.842      0.401      -0.349       0.140\n",
       "s37            0.0942      0.131      0.717      0.474      -0.165       0.353\n",
       "s38            0.0009      0.158      0.006      0.995      -0.310       0.312\n",
       "s39            0.2611      0.131      1.992      0.048       0.003       0.519\n",
       "s40           -0.1527      0.158     -0.964      0.336      -0.465       0.159\n",
       "s41           -0.3586      0.206     -1.737      0.084      -0.765       0.048\n",
       "s42           -0.1993      0.149     -1.341      0.181      -0.492       0.093\n",
       "s43            0.0525      0.147      0.357      0.721      -0.237       0.342\n",
       "s44            0.1386      0.167      0.829      0.408      -0.191       0.468\n",
       "s45            0.7344      0.241      3.050      0.003       0.260       1.209\n",
       "s46           -0.0948      0.267     -0.355      0.723      -0.620       0.431\n",
       "s47            0.0446      0.205      0.218      0.828      -0.358       0.448\n",
       "s48           -0.0429      0.241     -0.178      0.859      -0.517       0.432\n",
       "s49           -0.3466      0.242     -1.432      0.154      -0.824       0.130\n",
       "s50            0.1615      0.293      0.552      0.582      -0.415       0.738\n",
       "s51            0.3167      0.298      1.064      0.288      -0.270       0.903\n",
       "s52            0.3772      0.253      1.494      0.137      -0.120       0.875\n",
       "s53           -0.1690      0.351     -0.481      0.631      -0.861       0.523\n",
       "s54           -0.2927      0.283     -1.033      0.303      -0.851       0.265\n",
       "s55           -0.3926      0.470     -0.835      0.405      -1.319       0.534\n",
       "s56           -1.0180      0.660     -1.543      0.124      -2.318       0.282\n",
       "s57            0.1132      0.286      0.395      0.693      -0.451       0.677\n",
       "s58            2.3508      0.833      2.821      0.005       0.709       3.993\n",
       "s59           -2.4898      0.925     -2.692      0.008      -4.312      -0.668\n",
       "s60            2.6226      1.501      1.747      0.082      -0.335       5.580\n",
       "s61            0.6508      1.052      0.619      0.537      -1.422       2.723\n",
       "s62            5.1071      1.649      3.096      0.002       1.858       8.357\n",
       "s63            7.0792      3.419      2.071      0.039       0.343      13.815\n",
       "s64          -12.4963      4.974     -2.512      0.013     -22.296      -2.697\n",
       "s65            4.1444      3.915      1.059      0.291      -3.567      11.856\n",
       "s66           13.7783      5.930      2.324      0.021       2.096      25.460\n",
       "s67          -35.6411     15.940     -2.236      0.026     -67.044      -4.239\n",
       "s68           -0.8039      0.322     -2.500      0.013      -1.437      -0.170\n",
       "s69                 0          0        nan        nan           0           0\n",
       "s70           -2.4117      0.965     -2.500      0.013      -4.312      -0.511\n",
       "s71           -2.4117      0.965     -2.500      0.013      -4.312      -0.511\n",
       "s72           -1.6078      0.643     -2.500      0.013      -2.875      -0.341\n",
       "==============================================================================\n",
       "Omnibus:                       19.944   Durbin-Watson:                   1.869\n",
       "Prob(Omnibus):                  0.000   Jarque-Bera (JB):               22.676\n",
       "Skew:                          -0.663   Prob(JB):                     1.19e-05\n",
       "Kurtosis:                       2.833   Cond. No.                     1.12e+16\n",
       "==============================================================================\n",
       "\n",
       "Warnings:\n",
       "[1] Standard Errors assume that the covariance matrix of the errors is correctly specified.\n",
       "[2] The smallest eigenvalue is 1.26e-28. This might indicate that there are\n",
       "strong multicollinearity problems or that the design matrix is singular.\n",
       "\"\"\""
      ]
     },
     "execution_count": 110,
     "metadata": {},
     "output_type": "execute_result"
    }
   ],
   "source": [
    "import statsmodels.api as sm \n",
    "\n",
    "X = rdata.loc[:, rdata.columns != 'Y'] ## X usually means our input variables (or independent variables)\n",
    "y = rdata.loc[:, rdata.columns == 'Y'] ## Y usually means our output/dependent variable\n",
    "X = sm.add_constant(X) ## let's add an intercept (beta_0) to our model\n",
    "\n",
    "model = sm.OLS(y, X).fit() ## sm.OLS(output, input)\n",
    "predictions = model.predict(X)\n",
    "\n",
    "model.summary()"
   ]
  },
  {
   "cell_type": "code",
   "execution_count": 114,
   "metadata": {},
   "outputs": [],
   "source": [
    "file = open(\"ols_regression_ouput.csv\",\"w\")\n",
    "file.write(model.summary().as_csv())\n",
    "file.close()"
   ]
  },
  {
   "cell_type": "code",
   "execution_count": null,
   "metadata": {},
   "outputs": [],
   "source": []
  }
 ],
 "metadata": {
  "kernelspec": {
   "display_name": "Python 3",
   "language": "python",
   "name": "python3"
  },
  "language_info": {
   "codemirror_mode": {
    "name": "ipython",
    "version": 3
   },
   "file_extension": ".py",
   "mimetype": "text/x-python",
   "name": "python",
   "nbconvert_exporter": "python",
   "pygments_lexer": "ipython3",
   "version": "3.7.0"
  }
 },
 "nbformat": 4,
 "nbformat_minor": 2
}
