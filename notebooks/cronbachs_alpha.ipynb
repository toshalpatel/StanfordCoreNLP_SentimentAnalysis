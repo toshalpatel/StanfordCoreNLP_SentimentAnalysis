{
 "cells": [
  {
   "cell_type": "code",
   "execution_count": 4,
   "metadata": {},
   "outputs": [],
   "source": [
    "import pandas as pd\n",
    "import numpy as np"
   ]
  },
  {
   "cell_type": "code",
   "execution_count": 5,
   "metadata": {},
   "outputs": [
    {
     "data": {
      "text/html": [
       "<div>\n",
       "<style scoped>\n",
       "    .dataframe tbody tr th:only-of-type {\n",
       "        vertical-align: middle;\n",
       "    }\n",
       "\n",
       "    .dataframe tbody tr th {\n",
       "        vertical-align: top;\n",
       "    }\n",
       "\n",
       "    .dataframe thead th {\n",
       "        text-align: right;\n",
       "    }\n",
       "</style>\n",
       "<table border=\"1\" class=\"dataframe\">\n",
       "  <thead>\n",
       "    <tr style=\"text-align: right;\">\n",
       "      <th></th>\n",
       "      <th>HITId</th>\n",
       "      <th>HITTypeId</th>\n",
       "      <th>Title</th>\n",
       "      <th>Description</th>\n",
       "      <th>Keywords</th>\n",
       "      <th>Reward</th>\n",
       "      <th>CreationTime</th>\n",
       "      <th>MaxAssignments</th>\n",
       "      <th>RequesterAnnotation</th>\n",
       "      <th>AssignmentDurationInSeconds</th>\n",
       "      <th>...</th>\n",
       "      <th>RejectionTime</th>\n",
       "      <th>RequesterFeedback</th>\n",
       "      <th>WorkTimeInSeconds</th>\n",
       "      <th>LifetimeApprovalRate</th>\n",
       "      <th>Last30DaysApprovalRate</th>\n",
       "      <th>Last7DaysApprovalRate</th>\n",
       "      <th>Input.text</th>\n",
       "      <th>Answer.sentiment.label</th>\n",
       "      <th>Approve</th>\n",
       "      <th>Reject</th>\n",
       "    </tr>\n",
       "  </thead>\n",
       "  <tbody>\n",
       "    <tr>\n",
       "      <th>0</th>\n",
       "      <td>3QO7EE372O05JQQOZ9UH1022BYTBQM</td>\n",
       "      <td>3CM00QMEUL0OM2EY9JIV3PQMT8T6WO</td>\n",
       "      <td>Sentiment analysis for News Articles</td>\n",
       "      <td>Each entry is a sentence from a news article, ...</td>\n",
       "      <td>sentiment, text</td>\n",
       "      <td>$0.10</td>\n",
       "      <td>Sat Apr 25 03:19:59 PDT 2020</td>\n",
       "      <td>3</td>\n",
       "      <td>BatchId:4009282;OriginalHitTemplateId:928390909;</td>\n",
       "      <td>3600</td>\n",
       "      <td>...</td>\n",
       "      <td>NaN</td>\n",
       "      <td>NaN</td>\n",
       "      <td>158</td>\n",
       "      <td>100% (4837/4837)</td>\n",
       "      <td>100% (4837/4837)</td>\n",
       "      <td>100% (4825/4825)</td>\n",
       "      <td>Underdogs don't just make for good Hollywood m...</td>\n",
       "      <td>Positive</td>\n",
       "      <td>NaN</td>\n",
       "      <td>NaN</td>\n",
       "    </tr>\n",
       "    <tr>\n",
       "      <th>1</th>\n",
       "      <td>3QO7EE372O05JQQOZ9UH1022BYTBQM</td>\n",
       "      <td>3CM00QMEUL0OM2EY9JIV3PQMT8T6WO</td>\n",
       "      <td>Sentiment analysis for News Articles</td>\n",
       "      <td>Each entry is a sentence from a news article, ...</td>\n",
       "      <td>sentiment, text</td>\n",
       "      <td>$0.10</td>\n",
       "      <td>Sat Apr 25 03:19:59 PDT 2020</td>\n",
       "      <td>3</td>\n",
       "      <td>BatchId:4009282;OriginalHitTemplateId:928390909;</td>\n",
       "      <td>3600</td>\n",
       "      <td>...</td>\n",
       "      <td>NaN</td>\n",
       "      <td>NaN</td>\n",
       "      <td>544</td>\n",
       "      <td>100% (2968/2968)</td>\n",
       "      <td>100% (2968/2968)</td>\n",
       "      <td>100% (2858/2858)</td>\n",
       "      <td>Underdogs don't just make for good Hollywood m...</td>\n",
       "      <td>Positive</td>\n",
       "      <td>NaN</td>\n",
       "      <td>NaN</td>\n",
       "    </tr>\n",
       "    <tr>\n",
       "      <th>2</th>\n",
       "      <td>3QO7EE372O05JQQOZ9UH1022BYTBQM</td>\n",
       "      <td>3CM00QMEUL0OM2EY9JIV3PQMT8T6WO</td>\n",
       "      <td>Sentiment analysis for News Articles</td>\n",
       "      <td>Each entry is a sentence from a news article, ...</td>\n",
       "      <td>sentiment, text</td>\n",
       "      <td>$0.10</td>\n",
       "      <td>Sat Apr 25 03:19:59 PDT 2020</td>\n",
       "      <td>3</td>\n",
       "      <td>BatchId:4009282;OriginalHitTemplateId:928390909;</td>\n",
       "      <td>3600</td>\n",
       "      <td>...</td>\n",
       "      <td>NaN</td>\n",
       "      <td>NaN</td>\n",
       "      <td>27</td>\n",
       "      <td>100% (338/338)</td>\n",
       "      <td>100% (338/338)</td>\n",
       "      <td>100% (318/318)</td>\n",
       "      <td>Underdogs don't just make for good Hollywood m...</td>\n",
       "      <td>Neutral</td>\n",
       "      <td>NaN</td>\n",
       "      <td>NaN</td>\n",
       "    </tr>\n",
       "    <tr>\n",
       "      <th>3</th>\n",
       "      <td>3QHITW7OYOM00GLWTVUL6PIWTG7QA5</td>\n",
       "      <td>3CM00QMEUL0OM2EY9JIV3PQMT8T6WO</td>\n",
       "      <td>Sentiment analysis for News Articles</td>\n",
       "      <td>Each entry is a sentence from a news article, ...</td>\n",
       "      <td>sentiment, text</td>\n",
       "      <td>$0.10</td>\n",
       "      <td>Sat Apr 25 03:19:33 PDT 2020</td>\n",
       "      <td>3</td>\n",
       "      <td>BatchId:4009282;OriginalHitTemplateId:928390909;</td>\n",
       "      <td>3600</td>\n",
       "      <td>...</td>\n",
       "      <td>NaN</td>\n",
       "      <td>NaN</td>\n",
       "      <td>273</td>\n",
       "      <td>100% (4837/4837)</td>\n",
       "      <td>100% (4837/4837)</td>\n",
       "      <td>100% (4825/4825)</td>\n",
       "      <td>For example, designers LightCollab have fashio...</td>\n",
       "      <td>Positive</td>\n",
       "      <td>NaN</td>\n",
       "      <td>NaN</td>\n",
       "    </tr>\n",
       "    <tr>\n",
       "      <th>4</th>\n",
       "      <td>3QHITW7OYOM00GLWTVUL6PIWTG7QA5</td>\n",
       "      <td>3CM00QMEUL0OM2EY9JIV3PQMT8T6WO</td>\n",
       "      <td>Sentiment analysis for News Articles</td>\n",
       "      <td>Each entry is a sentence from a news article, ...</td>\n",
       "      <td>sentiment, text</td>\n",
       "      <td>$0.10</td>\n",
       "      <td>Sat Apr 25 03:19:33 PDT 2020</td>\n",
       "      <td>3</td>\n",
       "      <td>BatchId:4009282;OriginalHitTemplateId:928390909;</td>\n",
       "      <td>3600</td>\n",
       "      <td>...</td>\n",
       "      <td>NaN</td>\n",
       "      <td>NaN</td>\n",
       "      <td>253</td>\n",
       "      <td>100% (2968/2968)</td>\n",
       "      <td>100% (2968/2968)</td>\n",
       "      <td>100% (2858/2858)</td>\n",
       "      <td>For example, designers LightCollab have fashio...</td>\n",
       "      <td>Positive</td>\n",
       "      <td>NaN</td>\n",
       "      <td>NaN</td>\n",
       "    </tr>\n",
       "  </tbody>\n",
       "</table>\n",
       "<p>5 rows × 31 columns</p>\n",
       "</div>"
      ],
      "text/plain": [
       "                            HITId                       HITTypeId  \\\n",
       "0  3QO7EE372O05JQQOZ9UH1022BYTBQM  3CM00QMEUL0OM2EY9JIV3PQMT8T6WO   \n",
       "1  3QO7EE372O05JQQOZ9UH1022BYTBQM  3CM00QMEUL0OM2EY9JIV3PQMT8T6WO   \n",
       "2  3QO7EE372O05JQQOZ9UH1022BYTBQM  3CM00QMEUL0OM2EY9JIV3PQMT8T6WO   \n",
       "3  3QHITW7OYOM00GLWTVUL6PIWTG7QA5  3CM00QMEUL0OM2EY9JIV3PQMT8T6WO   \n",
       "4  3QHITW7OYOM00GLWTVUL6PIWTG7QA5  3CM00QMEUL0OM2EY9JIV3PQMT8T6WO   \n",
       "\n",
       "                                  Title  \\\n",
       "0  Sentiment analysis for News Articles   \n",
       "1  Sentiment analysis for News Articles   \n",
       "2  Sentiment analysis for News Articles   \n",
       "3  Sentiment analysis for News Articles   \n",
       "4  Sentiment analysis for News Articles   \n",
       "\n",
       "                                         Description         Keywords Reward  \\\n",
       "0  Each entry is a sentence from a news article, ...  sentiment, text  $0.10   \n",
       "1  Each entry is a sentence from a news article, ...  sentiment, text  $0.10   \n",
       "2  Each entry is a sentence from a news article, ...  sentiment, text  $0.10   \n",
       "3  Each entry is a sentence from a news article, ...  sentiment, text  $0.10   \n",
       "4  Each entry is a sentence from a news article, ...  sentiment, text  $0.10   \n",
       "\n",
       "                   CreationTime  MaxAssignments  \\\n",
       "0  Sat Apr 25 03:19:59 PDT 2020               3   \n",
       "1  Sat Apr 25 03:19:59 PDT 2020               3   \n",
       "2  Sat Apr 25 03:19:59 PDT 2020               3   \n",
       "3  Sat Apr 25 03:19:33 PDT 2020               3   \n",
       "4  Sat Apr 25 03:19:33 PDT 2020               3   \n",
       "\n",
       "                                RequesterAnnotation  \\\n",
       "0  BatchId:4009282;OriginalHitTemplateId:928390909;   \n",
       "1  BatchId:4009282;OriginalHitTemplateId:928390909;   \n",
       "2  BatchId:4009282;OriginalHitTemplateId:928390909;   \n",
       "3  BatchId:4009282;OriginalHitTemplateId:928390909;   \n",
       "4  BatchId:4009282;OriginalHitTemplateId:928390909;   \n",
       "\n",
       "   AssignmentDurationInSeconds  ...    RejectionTime RequesterFeedback  \\\n",
       "0                         3600  ...              NaN               NaN   \n",
       "1                         3600  ...              NaN               NaN   \n",
       "2                         3600  ...              NaN               NaN   \n",
       "3                         3600  ...              NaN               NaN   \n",
       "4                         3600  ...              NaN               NaN   \n",
       "\n",
       "   WorkTimeInSeconds  LifetimeApprovalRate Last30DaysApprovalRate  \\\n",
       "0                158      100% (4837/4837)       100% (4837/4837)   \n",
       "1                544      100% (2968/2968)       100% (2968/2968)   \n",
       "2                 27        100% (338/338)         100% (338/338)   \n",
       "3                273      100% (4837/4837)       100% (4837/4837)   \n",
       "4                253      100% (2968/2968)       100% (2968/2968)   \n",
       "\n",
       "  Last7DaysApprovalRate                                         Input.text  \\\n",
       "0      100% (4825/4825)  Underdogs don't just make for good Hollywood m...   \n",
       "1      100% (2858/2858)  Underdogs don't just make for good Hollywood m...   \n",
       "2        100% (318/318)  Underdogs don't just make for good Hollywood m...   \n",
       "3      100% (4825/4825)  For example, designers LightCollab have fashio...   \n",
       "4      100% (2858/2858)  For example, designers LightCollab have fashio...   \n",
       "\n",
       "  Answer.sentiment.label Approve Reject  \n",
       "0               Positive     NaN    NaN  \n",
       "1               Positive     NaN    NaN  \n",
       "2                Neutral     NaN    NaN  \n",
       "3               Positive     NaN    NaN  \n",
       "4               Positive     NaN    NaN  \n",
       "\n",
       "[5 rows x 31 columns]"
      ]
     },
     "execution_count": 5,
     "metadata": {},
     "output_type": "execute_result"
    }
   ],
   "source": [
    "df = pd.read_csv(\"~/oh_textmining/Batch_4009282_batch_results.csv\")\n",
    "df.head()"
   ]
  },
  {
   "cell_type": "code",
   "execution_count": 6,
   "metadata": {},
   "outputs": [
    {
     "data": {
      "text/plain": [
       "Index(['HITId', 'HITTypeId', 'Title', 'Description', 'Keywords', 'Reward',\n",
       "       'CreationTime', 'MaxAssignments', 'RequesterAnnotation',\n",
       "       'AssignmentDurationInSeconds', 'AutoApprovalDelayInSeconds',\n",
       "       'Expiration', 'NumberOfSimilarHITs', 'LifetimeInSeconds',\n",
       "       'AssignmentId', 'WorkerId', 'AssignmentStatus', 'AcceptTime',\n",
       "       'SubmitTime', 'AutoApprovalTime', 'ApprovalTime', 'RejectionTime',\n",
       "       'RequesterFeedback', 'WorkTimeInSeconds', 'LifetimeApprovalRate',\n",
       "       'Last30DaysApprovalRate', 'Last7DaysApprovalRate', 'Input.text',\n",
       "       'Answer.sentiment.label', 'Approve', 'Reject'],\n",
       "      dtype='object')"
      ]
     },
     "execution_count": 6,
     "metadata": {},
     "output_type": "execute_result"
    }
   ],
   "source": [
    "df.columns"
   ]
  },
  {
   "cell_type": "code",
   "execution_count": 7,
   "metadata": {},
   "outputs": [
    {
     "data": {
      "text/html": [
       "<div>\n",
       "<style scoped>\n",
       "    .dataframe tbody tr th:only-of-type {\n",
       "        vertical-align: middle;\n",
       "    }\n",
       "\n",
       "    .dataframe tbody tr th {\n",
       "        vertical-align: top;\n",
       "    }\n",
       "\n",
       "    .dataframe thead th {\n",
       "        text-align: right;\n",
       "    }\n",
       "</style>\n",
       "<table border=\"1\" class=\"dataframe\">\n",
       "  <thead>\n",
       "    <tr style=\"text-align: right;\">\n",
       "      <th></th>\n",
       "      <th>AssignmentId</th>\n",
       "      <th>Input.text</th>\n",
       "      <th>WorkerId</th>\n",
       "      <th>Answer.sentiment.label</th>\n",
       "    </tr>\n",
       "  </thead>\n",
       "  <tbody>\n",
       "    <tr>\n",
       "      <th>0</th>\n",
       "      <td>340UGXU9DZEF6HT5B1AO1XOOZ1TVUG</td>\n",
       "      <td>Underdogs don't just make for good Hollywood m...</td>\n",
       "      <td>A2YYQJ3JWA2KGD</td>\n",
       "      <td>Positive</td>\n",
       "    </tr>\n",
       "    <tr>\n",
       "      <th>1</th>\n",
       "      <td>3QECW5O0KIEJ8AZ15521S38N308T56</td>\n",
       "      <td>Underdogs don't just make for good Hollywood m...</td>\n",
       "      <td>AURYD2FH3FUOQ</td>\n",
       "      <td>Positive</td>\n",
       "    </tr>\n",
       "    <tr>\n",
       "      <th>2</th>\n",
       "      <td>3R0T90IZ1TP02QMA0FQ27QZ85P7GCH</td>\n",
       "      <td>Underdogs don't just make for good Hollywood m...</td>\n",
       "      <td>A2EOOF9D135HQ1</td>\n",
       "      <td>Neutral</td>\n",
       "    </tr>\n",
       "    <tr>\n",
       "      <th>3</th>\n",
       "      <td>345LHZDEDY5VU8RMRR4II2W58HYU3G</td>\n",
       "      <td>For example, designers LightCollab have fashio...</td>\n",
       "      <td>A2YYQJ3JWA2KGD</td>\n",
       "      <td>Positive</td>\n",
       "    </tr>\n",
       "    <tr>\n",
       "      <th>4</th>\n",
       "      <td>36V4Q8R5ZLD4O1SFG0PS408M5POMQ2</td>\n",
       "      <td>For example, designers LightCollab have fashio...</td>\n",
       "      <td>AURYD2FH3FUOQ</td>\n",
       "      <td>Positive</td>\n",
       "    </tr>\n",
       "  </tbody>\n",
       "</table>\n",
       "</div>"
      ],
      "text/plain": [
       "                     AssignmentId  \\\n",
       "0  340UGXU9DZEF6HT5B1AO1XOOZ1TVUG   \n",
       "1  3QECW5O0KIEJ8AZ15521S38N308T56   \n",
       "2  3R0T90IZ1TP02QMA0FQ27QZ85P7GCH   \n",
       "3  345LHZDEDY5VU8RMRR4II2W58HYU3G   \n",
       "4  36V4Q8R5ZLD4O1SFG0PS408M5POMQ2   \n",
       "\n",
       "                                          Input.text        WorkerId  \\\n",
       "0  Underdogs don't just make for good Hollywood m...  A2YYQJ3JWA2KGD   \n",
       "1  Underdogs don't just make for good Hollywood m...   AURYD2FH3FUOQ   \n",
       "2  Underdogs don't just make for good Hollywood m...  A2EOOF9D135HQ1   \n",
       "3  For example, designers LightCollab have fashio...  A2YYQJ3JWA2KGD   \n",
       "4  For example, designers LightCollab have fashio...   AURYD2FH3FUOQ   \n",
       "\n",
       "  Answer.sentiment.label  \n",
       "0               Positive  \n",
       "1               Positive  \n",
       "2                Neutral  \n",
       "3               Positive  \n",
       "4               Positive  "
      ]
     },
     "execution_count": 7,
     "metadata": {},
     "output_type": "execute_result"
    }
   ],
   "source": [
    "df = df[['AssignmentId','Input.text','WorkerId','Answer.sentiment.label']]\n",
    "df.head()"
   ]
  },
  {
   "cell_type": "code",
   "execution_count": 8,
   "metadata": {},
   "outputs": [
    {
     "data": {
      "text/plain": [
       "13"
      ]
     },
     "execution_count": 8,
     "metadata": {},
     "output_type": "execute_result"
    }
   ],
   "source": [
    "# number of unique workers\n",
    "df['WorkerId'].nunique()"
   ]
  },
  {
   "cell_type": "markdown",
   "metadata": {},
   "source": [
    "### Convert sentiment scores"
   ]
  },
  {
   "cell_type": "code",
   "execution_count": 9,
   "metadata": {},
   "outputs": [],
   "source": [
    "def get_nss(x):\n",
    "    if x==\"Positive\":\n",
    "        return 3\n",
    "    elif x==\"Neutral\":\n",
    "        return 2\n",
    "    elif x==\"Negative\":\n",
    "        return 1\n",
    "    elif x==\"Very Positive\":\n",
    "        return 4\n",
    "    elif x==\"Very Negative\":\n",
    "        return 0\n",
    "    else: return None\n",
    "\n",
    "df[\"sentiment_score\"] = df['Answer.sentiment.label'].apply(lambda x: get_nss(str(x)))"
   ]
  },
  {
   "cell_type": "code",
   "execution_count": 10,
   "metadata": {},
   "outputs": [
    {
     "data": {
      "text/plain": [
       "0    {'text': ' SINGAPORE - A popular burger chain ...\n",
       "1    {'text': '\"(In some cases) the wife had to be ...\n",
       "2    {'text': '\"(Kon Chun) was a very good guy and ...\n",
       "3    {'text': '\", see what happens if you give an h...\n",
       "4    {'text': '\"A cat cafe might not be the best pl...\n",
       "dtype: object"
      ]
     },
     "execution_count": 10,
     "metadata": {},
     "output_type": "execute_result"
    }
   ],
   "source": [
    "data = pd.DataFrame()\n",
    "\n",
    "def get_data(dataf):\n",
    "    dataf = dataf.reset_index(drop=True)\n",
    "#     dic = {'text':dataf['Input.text'][0], \"W1\":dataf['Answer.sentiment.label'][0], \"W2\":dataf['Answer.sentiment.label'][1], \\\n",
    "#                         \"W3\":dataf['Answer.sentiment.label'][2]}\n",
    "    dic = {'text':dataf['Input.text'][0], \"W1\":dataf['sentiment_score'][0], \"W2\":dataf['sentiment_score'][1], \\\n",
    "                        \"W3\":dataf['sentiment_score'][2]}\n",
    "    return dic\n",
    "\n",
    "dfg = df.groupby(['Input.text']).apply(lambda x: get_data(x)).reset_index(drop=True)\n",
    "dfg.head()"
   ]
  },
  {
   "cell_type": "code",
   "execution_count": 11,
   "metadata": {},
   "outputs": [
    {
     "data": {
      "text/html": [
       "<div>\n",
       "<style scoped>\n",
       "    .dataframe tbody tr th:only-of-type {\n",
       "        vertical-align: middle;\n",
       "    }\n",
       "\n",
       "    .dataframe tbody tr th {\n",
       "        vertical-align: top;\n",
       "    }\n",
       "\n",
       "    .dataframe thead th {\n",
       "        text-align: right;\n",
       "    }\n",
       "</style>\n",
       "<table border=\"1\" class=\"dataframe\">\n",
       "  <thead>\n",
       "    <tr style=\"text-align: right;\">\n",
       "      <th></th>\n",
       "      <th>W1</th>\n",
       "      <th>W2</th>\n",
       "      <th>W3</th>\n",
       "      <th>text</th>\n",
       "    </tr>\n",
       "  </thead>\n",
       "  <tbody>\n",
       "    <tr>\n",
       "      <th>0</th>\n",
       "      <td>2.0</td>\n",
       "      <td>4.0</td>\n",
       "      <td>4.0</td>\n",
       "      <td>SINGAPORE - A popular burger chain from Ameri...</td>\n",
       "    </tr>\n",
       "    <tr>\n",
       "      <th>1</th>\n",
       "      <td>0.0</td>\n",
       "      <td>1.0</td>\n",
       "      <td>0.0</td>\n",
       "      <td>\"(In some cases) the wife had to be taken to t...</td>\n",
       "    </tr>\n",
       "    <tr>\n",
       "      <th>2</th>\n",
       "      <td>3.0</td>\n",
       "      <td>3.0</td>\n",
       "      <td>4.0</td>\n",
       "      <td>\"(Kon Chun) was a very good guy and everyone i...</td>\n",
       "    </tr>\n",
       "    <tr>\n",
       "      <th>3</th>\n",
       "      <td>2.0</td>\n",
       "      <td>2.0</td>\n",
       "      <td>2.0</td>\n",
       "      <td>\", see what happens if you give an honest answer.</td>\n",
       "    </tr>\n",
       "    <tr>\n",
       "      <th>4</th>\n",
       "      <td>2.0</td>\n",
       "      <td>3.0</td>\n",
       "      <td>3.0</td>\n",
       "      <td>\"A cat cafe might not be the best place for a ...</td>\n",
       "    </tr>\n",
       "  </tbody>\n",
       "</table>\n",
       "</div>"
      ],
      "text/plain": [
       "    W1   W2   W3                                               text\n",
       "0  2.0  4.0  4.0   SINGAPORE - A popular burger chain from Ameri...\n",
       "1  0.0  1.0  0.0  \"(In some cases) the wife had to be taken to t...\n",
       "2  3.0  3.0  4.0  \"(Kon Chun) was a very good guy and everyone i...\n",
       "3  2.0  2.0  2.0  \", see what happens if you give an honest answer.\n",
       "4  2.0  3.0  3.0  \"A cat cafe might not be the best place for a ..."
      ]
     },
     "execution_count": 11,
     "metadata": {},
     "output_type": "execute_result"
    }
   ],
   "source": [
    "for i in dfg.index:\n",
    "    data = data.append(dfg.loc[i,], ignore_index=True)\n",
    "data.head()"
   ]
  },
  {
   "cell_type": "code",
   "execution_count": 12,
   "metadata": {},
   "outputs": [
    {
     "name": "stdout",
     "output_type": "stream",
     "text": [
      "4846\n"
     ]
    }
   ],
   "source": [
    "print(len(data.index))"
   ]
  },
  {
   "cell_type": "markdown",
   "metadata": {},
   "source": [
    "# Cronbach's Alpha"
   ]
  },
  {
   "cell_type": "code",
   "execution_count": 13,
   "metadata": {},
   "outputs": [],
   "source": [
    "def CronbachAlpha(itemscores):\n",
    "    itemscores = np.asarray(itemscores)\n",
    "    print(itemscores)\n",
    "    itemvars = itemscores.var(axis=0, ddof=1)\n",
    "    tscores = itemscores.sum(axis=1)\n",
    "    nitems = itemscores.shape[1]\n",
    "\n",
    "    return (nitems / (nitems-1)) * (1 - (itemvars.sum() / tscores.var(ddof=1)))"
   ]
  },
  {
   "cell_type": "code",
   "execution_count": 14,
   "metadata": {},
   "outputs": [
    {
     "name": "stdout",
     "output_type": "stream",
     "text": [
      "[[2. 4. 4.]\n",
      " [0. 1. 0.]\n",
      " [3. 3. 4.]\n",
      " ...\n",
      " [2. 2. 2.]\n",
      " [1. 2. 2.]\n",
      " [2. 2. 2.]]\n"
     ]
    },
    {
     "data": {
      "text/plain": [
       "0.7326982606514421"
      ]
     },
     "execution_count": 14,
     "metadata": {},
     "output_type": "execute_result"
    }
   ],
   "source": [
    "ca = CronbachAlpha(data[['W1','W2','W3']])\n",
    "ca"
   ]
  },
  {
   "cell_type": "code",
   "execution_count": 16,
   "metadata": {},
   "outputs": [],
   "source": [
    "data.to_csv(\"cronbach_alpha_data.csv\",index=None)"
   ]
  },
  {
   "cell_type": "code",
   "execution_count": null,
   "metadata": {},
   "outputs": [],
   "source": []
  }
 ],
 "metadata": {
  "kernelspec": {
   "display_name": "Python 3",
   "language": "python",
   "name": "python3"
  },
  "language_info": {
   "codemirror_mode": {
    "name": "ipython",
    "version": 3
   },
   "file_extension": ".py",
   "mimetype": "text/x-python",
   "name": "python",
   "nbconvert_exporter": "python",
   "pygments_lexer": "ipython3",
   "version": "3.7.0"
  }
 },
 "nbformat": 4,
 "nbformat_minor": 2
}
